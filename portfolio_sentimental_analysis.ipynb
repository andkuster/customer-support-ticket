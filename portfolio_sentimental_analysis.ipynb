{
 "cells": [
  {
   "cell_type": "markdown",
   "id": "75e5d85b",
   "metadata": {},
   "source": [
    "# Customer Support Tickets"
   ]
  },
  {
   "cell_type": "markdown",
   "id": "60713170",
   "metadata": {},
   "source": [
    "## Libraries"
   ]
  },
  {
   "cell_type": "code",
   "execution_count": 75,
   "id": "53babfc7",
   "metadata": {
    "scrolled": true
   },
   "outputs": [],
   "source": [
    "import numpy as np\n",
    "import pandas as pd\n",
    "import matplotlib.pyplot as plt #conda install -c conda-forge matplotlib\n",
    "import seaborn as sns #conda install -c anaconda seaborn"
   ]
  },
  {
   "cell_type": "markdown",
   "id": "0ef5ae03",
   "metadata": {},
   "source": [
    "## Features Description:\n",
    "- Ticket ID: A unique identifier for each ticket.\n",
    "- Customer Name: The name of the customer who raised the ticket.\n",
    "- Customer Email: The email address of the customer (Domain name - @example.com is intentional for user data privacy concern).\n",
    "- Customer Age: The age of the customer.\n",
    "- Customer Gender: The gender of the customer.\n",
    "- Product Purchased: The tech product purchased by the customer.\n",
    "- Date of Purchase: The date when the product was purchased.\n",
    "- Ticket Type: The type of ticket (e.g., technical issue, billing inquiry, product inquiry).\n",
    "- Ticket Subject: The subject/topic of the ticket.\n",
    "- Ticket Description: The description of the customer's issue or inquiry.\n",
    "- Ticket Status: The status of the ticket (e.g., open, closed, pending customer response).\n",
    "- Resolution: The resolution or solution provided for closed tickets.\n",
    "- Ticket Priority: The priority level assigned to the ticket (e.g., low, medium, high, critical).\n",
    "- Ticket Channel: The channel through which the ticket was raised (e.g., email, phone, chat, social media).\n",
    "- First Response Time: The time taken to provide the first response to the customer.\n",
    "- Time to Resolution: The time taken to resolve the ticket.\n",
    "- Customer Satisfaction Rating: The customer's satisfaction rating for closed tickets (on a scale of 1 to 5)."
   ]
  },
  {
   "cell_type": "markdown",
   "id": "ffc685e2",
   "metadata": {},
   "source": [
    "## Reading Data"
   ]
  },
  {
   "cell_type": "code",
   "execution_count": 2,
   "id": "b9f8c7c2",
   "metadata": {
    "scrolled": true
   },
   "outputs": [],
   "source": [
    "# Reading the data\n",
    "df = pd.read_csv('customer_support_tickets.csv')"
   ]
  },
  {
   "cell_type": "code",
   "execution_count": 3,
   "id": "14df9bc7",
   "metadata": {},
   "outputs": [
    {
     "data": {
      "text/html": [
       "<div>\n",
       "<style scoped>\n",
       "    .dataframe tbody tr th:only-of-type {\n",
       "        vertical-align: middle;\n",
       "    }\n",
       "\n",
       "    .dataframe tbody tr th {\n",
       "        vertical-align: top;\n",
       "    }\n",
       "\n",
       "    .dataframe thead th {\n",
       "        text-align: right;\n",
       "    }\n",
       "</style>\n",
       "<table border=\"1\" class=\"dataframe\">\n",
       "  <thead>\n",
       "    <tr style=\"text-align: right;\">\n",
       "      <th></th>\n",
       "      <th>Ticket ID</th>\n",
       "      <th>Customer Name</th>\n",
       "      <th>Customer Email</th>\n",
       "      <th>Customer Age</th>\n",
       "      <th>Customer Gender</th>\n",
       "      <th>Product Purchased</th>\n",
       "      <th>Date of Purchase</th>\n",
       "      <th>Ticket Type</th>\n",
       "      <th>Ticket Subject</th>\n",
       "      <th>Ticket Description</th>\n",
       "      <th>Ticket Status</th>\n",
       "      <th>Resolution</th>\n",
       "      <th>Ticket Priority</th>\n",
       "      <th>Ticket Channel</th>\n",
       "      <th>First Response Time</th>\n",
       "      <th>Time to Resolution</th>\n",
       "      <th>Customer Satisfaction Rating</th>\n",
       "    </tr>\n",
       "  </thead>\n",
       "  <tbody>\n",
       "    <tr>\n",
       "      <th>0</th>\n",
       "      <td>1</td>\n",
       "      <td>Marisa Obrien</td>\n",
       "      <td>carrollallison@example.com</td>\n",
       "      <td>32</td>\n",
       "      <td>Other</td>\n",
       "      <td>GoPro Hero</td>\n",
       "      <td>2021-03-22</td>\n",
       "      <td>Technical issue</td>\n",
       "      <td>Product setup</td>\n",
       "      <td>I'm having an issue with the {product_purchase...</td>\n",
       "      <td>Pending Customer Response</td>\n",
       "      <td>NaN</td>\n",
       "      <td>Critical</td>\n",
       "      <td>Social media</td>\n",
       "      <td>2023-06-01 12:15:36</td>\n",
       "      <td>NaN</td>\n",
       "      <td>NaN</td>\n",
       "    </tr>\n",
       "    <tr>\n",
       "      <th>1</th>\n",
       "      <td>2</td>\n",
       "      <td>Jessica Rios</td>\n",
       "      <td>clarkeashley@example.com</td>\n",
       "      <td>42</td>\n",
       "      <td>Female</td>\n",
       "      <td>LG Smart TV</td>\n",
       "      <td>2021-05-22</td>\n",
       "      <td>Technical issue</td>\n",
       "      <td>Peripheral compatibility</td>\n",
       "      <td>I'm having an issue with the {product_purchase...</td>\n",
       "      <td>Pending Customer Response</td>\n",
       "      <td>NaN</td>\n",
       "      <td>Critical</td>\n",
       "      <td>Chat</td>\n",
       "      <td>2023-06-01 16:45:38</td>\n",
       "      <td>NaN</td>\n",
       "      <td>NaN</td>\n",
       "    </tr>\n",
       "    <tr>\n",
       "      <th>2</th>\n",
       "      <td>3</td>\n",
       "      <td>Christopher Robbins</td>\n",
       "      <td>gonzalestracy@example.com</td>\n",
       "      <td>48</td>\n",
       "      <td>Other</td>\n",
       "      <td>Dell XPS</td>\n",
       "      <td>2020-07-14</td>\n",
       "      <td>Technical issue</td>\n",
       "      <td>Network problem</td>\n",
       "      <td>I'm facing a problem with my {product_purchase...</td>\n",
       "      <td>Closed</td>\n",
       "      <td>Case maybe show recently my computer follow.</td>\n",
       "      <td>Low</td>\n",
       "      <td>Social media</td>\n",
       "      <td>2023-06-01 11:14:38</td>\n",
       "      <td>2023-06-01 18:05:38</td>\n",
       "      <td>3.0</td>\n",
       "    </tr>\n",
       "    <tr>\n",
       "      <th>3</th>\n",
       "      <td>4</td>\n",
       "      <td>Christina Dillon</td>\n",
       "      <td>bradleyolson@example.org</td>\n",
       "      <td>27</td>\n",
       "      <td>Female</td>\n",
       "      <td>Microsoft Office</td>\n",
       "      <td>2020-11-13</td>\n",
       "      <td>Billing inquiry</td>\n",
       "      <td>Account access</td>\n",
       "      <td>I'm having an issue with the {product_purchase...</td>\n",
       "      <td>Closed</td>\n",
       "      <td>Try capital clearly never color toward story.</td>\n",
       "      <td>Low</td>\n",
       "      <td>Social media</td>\n",
       "      <td>2023-06-01 07:29:40</td>\n",
       "      <td>2023-06-01 01:57:40</td>\n",
       "      <td>3.0</td>\n",
       "    </tr>\n",
       "    <tr>\n",
       "      <th>4</th>\n",
       "      <td>5</td>\n",
       "      <td>Alexander Carroll</td>\n",
       "      <td>bradleymark@example.com</td>\n",
       "      <td>67</td>\n",
       "      <td>Female</td>\n",
       "      <td>Autodesk AutoCAD</td>\n",
       "      <td>2020-02-04</td>\n",
       "      <td>Billing inquiry</td>\n",
       "      <td>Data loss</td>\n",
       "      <td>I'm having an issue with the {product_purchase...</td>\n",
       "      <td>Closed</td>\n",
       "      <td>West decision evidence bit.</td>\n",
       "      <td>Low</td>\n",
       "      <td>Email</td>\n",
       "      <td>2023-06-01 00:12:42</td>\n",
       "      <td>2023-06-01 19:53:42</td>\n",
       "      <td>1.0</td>\n",
       "    </tr>\n",
       "  </tbody>\n",
       "</table>\n",
       "</div>"
      ],
      "text/plain": [
       "   Ticket ID        Customer Name              Customer Email  Customer Age  \\\n",
       "0          1        Marisa Obrien  carrollallison@example.com            32   \n",
       "1          2         Jessica Rios    clarkeashley@example.com            42   \n",
       "2          3  Christopher Robbins   gonzalestracy@example.com            48   \n",
       "3          4     Christina Dillon    bradleyolson@example.org            27   \n",
       "4          5    Alexander Carroll     bradleymark@example.com            67   \n",
       "\n",
       "  Customer Gender Product Purchased Date of Purchase      Ticket Type  \\\n",
       "0           Other        GoPro Hero       2021-03-22  Technical issue   \n",
       "1          Female       LG Smart TV       2021-05-22  Technical issue   \n",
       "2           Other          Dell XPS       2020-07-14  Technical issue   \n",
       "3          Female  Microsoft Office       2020-11-13  Billing inquiry   \n",
       "4          Female  Autodesk AutoCAD       2020-02-04  Billing inquiry   \n",
       "\n",
       "             Ticket Subject  \\\n",
       "0             Product setup   \n",
       "1  Peripheral compatibility   \n",
       "2           Network problem   \n",
       "3            Account access   \n",
       "4                 Data loss   \n",
       "\n",
       "                                  Ticket Description  \\\n",
       "0  I'm having an issue with the {product_purchase...   \n",
       "1  I'm having an issue with the {product_purchase...   \n",
       "2  I'm facing a problem with my {product_purchase...   \n",
       "3  I'm having an issue with the {product_purchase...   \n",
       "4  I'm having an issue with the {product_purchase...   \n",
       "\n",
       "               Ticket Status                                     Resolution  \\\n",
       "0  Pending Customer Response                                            NaN   \n",
       "1  Pending Customer Response                                            NaN   \n",
       "2                     Closed   Case maybe show recently my computer follow.   \n",
       "3                     Closed  Try capital clearly never color toward story.   \n",
       "4                     Closed                    West decision evidence bit.   \n",
       "\n",
       "  Ticket Priority Ticket Channel  First Response Time   Time to Resolution  \\\n",
       "0        Critical   Social media  2023-06-01 12:15:36                  NaN   \n",
       "1        Critical           Chat  2023-06-01 16:45:38                  NaN   \n",
       "2             Low   Social media  2023-06-01 11:14:38  2023-06-01 18:05:38   \n",
       "3             Low   Social media  2023-06-01 07:29:40  2023-06-01 01:57:40   \n",
       "4             Low          Email  2023-06-01 00:12:42  2023-06-01 19:53:42   \n",
       "\n",
       "   Customer Satisfaction Rating  \n",
       "0                           NaN  \n",
       "1                           NaN  \n",
       "2                           3.0  \n",
       "3                           3.0  \n",
       "4                           1.0  "
      ]
     },
     "execution_count": 3,
     "metadata": {},
     "output_type": "execute_result"
    }
   ],
   "source": [
    "df.head()"
   ]
  },
  {
   "cell_type": "markdown",
   "id": "6a683ff5",
   "metadata": {},
   "source": [
    "## EDA"
   ]
  },
  {
   "cell_type": "code",
   "execution_count": 8,
   "id": "70c8b8cb",
   "metadata": {},
   "outputs": [
    {
     "data": {
      "text/plain": [
       "(8469, 17)"
      ]
     },
     "execution_count": 8,
     "metadata": {},
     "output_type": "execute_result"
    }
   ],
   "source": [
    "# Function to check the dataset size\n",
    "df.shape"
   ]
  },
  {
   "cell_type": "code",
   "execution_count": 4,
   "id": "2ed9ef59",
   "metadata": {},
   "outputs": [
    {
     "name": "stdout",
     "output_type": "stream",
     "text": [
      "<class 'pandas.core.frame.DataFrame'>\n",
      "RangeIndex: 8469 entries, 0 to 8468\n",
      "Data columns (total 17 columns):\n",
      " #   Column                        Non-Null Count  Dtype  \n",
      "---  ------                        --------------  -----  \n",
      " 0   Ticket ID                     8469 non-null   int64  \n",
      " 1   Customer Name                 8469 non-null   object \n",
      " 2   Customer Email                8469 non-null   object \n",
      " 3   Customer Age                  8469 non-null   int64  \n",
      " 4   Customer Gender               8469 non-null   object \n",
      " 5   Product Purchased             8469 non-null   object \n",
      " 6   Date of Purchase              8469 non-null   object \n",
      " 7   Ticket Type                   8469 non-null   object \n",
      " 8   Ticket Subject                8469 non-null   object \n",
      " 9   Ticket Description            8469 non-null   object \n",
      " 10  Ticket Status                 8469 non-null   object \n",
      " 11  Resolution                    2769 non-null   object \n",
      " 12  Ticket Priority               8469 non-null   object \n",
      " 13  Ticket Channel                8469 non-null   object \n",
      " 14  First Response Time           5650 non-null   object \n",
      " 15  Time to Resolution            2769 non-null   object \n",
      " 16  Customer Satisfaction Rating  2769 non-null   float64\n",
      "dtypes: float64(1), int64(2), object(14)\n",
      "memory usage: 1.1+ MB\n"
     ]
    }
   ],
   "source": [
    "# Function to check the data type of each variable\n",
    "df.info()"
   ]
  },
  {
   "cell_type": "code",
   "execution_count": 28,
   "id": "310f7602",
   "metadata": {},
   "outputs": [
    {
     "data": {
      "text/plain": [
       "Ticket ID                          0\n",
       "Customer Name                      0\n",
       "Customer Email                     0\n",
       "Customer Age                       0\n",
       "Customer Gender                    0\n",
       "Product Purchased                  0\n",
       "Date of Purchase                   0\n",
       "Ticket Type                        0\n",
       "Ticket Subject                     0\n",
       "Ticket Description                 0\n",
       "Ticket Status                      0\n",
       "Resolution                      5700\n",
       "Ticket Priority                    0\n",
       "Ticket Channel                     0\n",
       "First Response Time             2819\n",
       "Time to Resolution              5700\n",
       "Customer Satisfaction Rating    5700\n",
       "dtype: int64"
      ]
     },
     "execution_count": 28,
     "metadata": {},
     "output_type": "execute_result"
    }
   ],
   "source": [
    "# Function to check missing values\n",
    "df.isna().sum()"
   ]
  },
  {
   "cell_type": "code",
   "execution_count": 17,
   "id": "391b059b",
   "metadata": {},
   "outputs": [
    {
     "data": {
      "text/plain": [
       "'2020-01-01'"
      ]
     },
     "execution_count": 17,
     "metadata": {},
     "output_type": "execute_result"
    }
   ],
   "source": [
    "df[\"Date of Purchase\"].min()"
   ]
  },
  {
   "cell_type": "code",
   "execution_count": 16,
   "id": "6dee701c",
   "metadata": {},
   "outputs": [
    {
     "data": {
      "text/plain": [
       "'2021-12-30'"
      ]
     },
     "execution_count": 16,
     "metadata": {},
     "output_type": "execute_result"
    }
   ],
   "source": [
    "df[\"Date of Purchase\"].max()"
   ]
  },
  {
   "cell_type": "code",
   "execution_count": 21,
   "id": "14addf01",
   "metadata": {},
   "outputs": [
    {
     "data": {
      "text/plain": [
       "array(['Pending Customer Response', 'Closed', 'Open'], dtype=object)"
      ]
     },
     "execution_count": 21,
     "metadata": {},
     "output_type": "execute_result"
    }
   ],
   "source": [
    "# Checking the different values of each category\n",
    "df['Ticket Status'].unique()"
   ]
  },
  {
   "cell_type": "code",
   "execution_count": 23,
   "id": "ac9b4d27",
   "metadata": {
    "scrolled": true
   },
   "outputs": [
    {
     "data": {
      "text/plain": [
       "Refund request          1752\n",
       "Technical issue         1747\n",
       "Cancellation request    1695\n",
       "Product inquiry         1641\n",
       "Billing inquiry         1634\n",
       "Name: Ticket Type, dtype: int64"
      ]
     },
     "execution_count": 23,
     "metadata": {},
     "output_type": "execute_result"
    }
   ],
   "source": [
    "df['Ticket Type'].value_counts()"
   ]
  },
  {
   "cell_type": "code",
   "execution_count": 26,
   "id": "d05c8903",
   "metadata": {},
   "outputs": [
    {
     "data": {
      "text/plain": [
       "Refund request              576\n",
       "Software bug                574\n",
       "Product compatibility       567\n",
       "Delivery problem            561\n",
       "Hardware issue              547\n",
       "Battery life                542\n",
       "Network problem             539\n",
       "Installation support        530\n",
       "Product setup               529\n",
       "Payment issue               526\n",
       "Product recommendation      517\n",
       "Account access              509\n",
       "Peripheral compatibility    496\n",
       "Data loss                   491\n",
       "Cancellation request        487\n",
       "Display issue               478\n",
       "Name: Ticket Subject, dtype: int64"
      ]
     },
     "execution_count": 26,
     "metadata": {},
     "output_type": "execute_result"
    }
   ],
   "source": [
    "df['Ticket Subject'].value_counts()"
   ]
  },
  {
   "cell_type": "code",
   "execution_count": 27,
   "id": "35aa2f63",
   "metadata": {
    "scrolled": true
   },
   "outputs": [
    {
     "data": {
      "text/plain": [
       "Medium      2192\n",
       "Critical    2129\n",
       "High        2085\n",
       "Low         2063\n",
       "Name: Ticket Priority, dtype: int64"
      ]
     },
     "execution_count": 27,
     "metadata": {},
     "output_type": "execute_result"
    }
   ],
   "source": [
    "df['Ticket Priority'].value_counts()"
   ]
  },
  {
   "cell_type": "code",
   "execution_count": 28,
   "id": "5f8aebf7",
   "metadata": {},
   "outputs": [
    {
     "data": {
      "text/plain": [
       "Email           2143\n",
       "Phone           2132\n",
       "Social media    2121\n",
       "Chat            2073\n",
       "Name: Ticket Channel, dtype: int64"
      ]
     },
     "execution_count": 28,
     "metadata": {},
     "output_type": "execute_result"
    }
   ],
   "source": [
    "df['Ticket Channel'].value_counts()"
   ]
  },
  {
   "cell_type": "code",
   "execution_count": 19,
   "id": "bc24a8e2",
   "metadata": {},
   "outputs": [
    {
     "data": {
      "text/html": [
       "<div>\n",
       "<style scoped>\n",
       "    .dataframe tbody tr th:only-of-type {\n",
       "        vertical-align: middle;\n",
       "    }\n",
       "\n",
       "    .dataframe tbody tr th {\n",
       "        vertical-align: top;\n",
       "    }\n",
       "\n",
       "    .dataframe thead th {\n",
       "        text-align: right;\n",
       "    }\n",
       "</style>\n",
       "<table border=\"1\" class=\"dataframe\">\n",
       "  <thead>\n",
       "    <tr style=\"text-align: right;\">\n",
       "      <th></th>\n",
       "      <th>count</th>\n",
       "      <th>mean</th>\n",
       "      <th>std</th>\n",
       "      <th>min</th>\n",
       "      <th>25%</th>\n",
       "      <th>50%</th>\n",
       "      <th>75%</th>\n",
       "      <th>max</th>\n",
       "    </tr>\n",
       "  </thead>\n",
       "  <tbody>\n",
       "    <tr>\n",
       "      <th>Ticket ID</th>\n",
       "      <td>8469.0</td>\n",
       "      <td>4235.000000</td>\n",
       "      <td>2444.934048</td>\n",
       "      <td>1.0</td>\n",
       "      <td>2118.0</td>\n",
       "      <td>4235.0</td>\n",
       "      <td>6352.0</td>\n",
       "      <td>8469.0</td>\n",
       "    </tr>\n",
       "    <tr>\n",
       "      <th>Customer Age</th>\n",
       "      <td>8469.0</td>\n",
       "      <td>44.026804</td>\n",
       "      <td>15.296112</td>\n",
       "      <td>18.0</td>\n",
       "      <td>31.0</td>\n",
       "      <td>44.0</td>\n",
       "      <td>57.0</td>\n",
       "      <td>70.0</td>\n",
       "    </tr>\n",
       "    <tr>\n",
       "      <th>Customer Satisfaction Rating</th>\n",
       "      <td>2769.0</td>\n",
       "      <td>2.991333</td>\n",
       "      <td>1.407016</td>\n",
       "      <td>1.0</td>\n",
       "      <td>2.0</td>\n",
       "      <td>3.0</td>\n",
       "      <td>4.0</td>\n",
       "      <td>5.0</td>\n",
       "    </tr>\n",
       "  </tbody>\n",
       "</table>\n",
       "</div>"
      ],
      "text/plain": [
       "                               count         mean          std   min     25%  \\\n",
       "Ticket ID                     8469.0  4235.000000  2444.934048   1.0  2118.0   \n",
       "Customer Age                  8469.0    44.026804    15.296112  18.0    31.0   \n",
       "Customer Satisfaction Rating  2769.0     2.991333     1.407016   1.0     2.0   \n",
       "\n",
       "                                 50%     75%     max  \n",
       "Ticket ID                     4235.0  6352.0  8469.0  \n",
       "Customer Age                    44.0    57.0    70.0  \n",
       "Customer Satisfaction Rating     3.0     4.0     5.0  "
      ]
     },
     "execution_count": 19,
     "metadata": {},
     "output_type": "execute_result"
    }
   ],
   "source": [
    "df.describe().transpose()"
   ]
  },
  {
   "cell_type": "markdown",
   "id": "aa623064",
   "metadata": {},
   "source": [
    "## Data Visualization"
   ]
  },
  {
   "cell_type": "code",
   "execution_count": 31,
   "id": "f3117bc7",
   "metadata": {},
   "outputs": [
    {
     "data": {
      "image/png": "[encoded data removed]",
      "text/plain": [
       "<Figure size 640x480 with 1 Axes>"
      ]
     },
     "metadata": {},
     "output_type": "display_data"
    }
   ],
   "source": [
    "# Histogram using Matplotlib\n",
    "\n",
    "plt.hist(df[\"Customer Satisfaction Rating\"], bins=20, facecolor=\"lightblue\", alpha=0.9)\n",
    "plt.xlabel(\"Customer Satisfaction Rating\")\n",
    "plt.ylabel(\"Frequency\")\n",
    "plt.title(\"Histogram\");"
   ]
  },
  {
   "cell_type": "code",
   "execution_count": 43,
   "id": "fcf2b3f1",
   "metadata": {
    "scrolled": false
   },
   "outputs": [
    {
     "data": {
      "image/png": "[encoded data removed]",
      "text/plain": [
       "<Figure size 640x480 with 1 Axes>"
      ]
     },
     "metadata": {},
     "output_type": "display_data"
    }
   ],
   "source": [
    "# Histogram using Matplotlib\n",
    "\n",
    "plt.hist(df[\"Customer Age\"], bins=50, facecolor=\"lightblue\", alpha=0.9)\n",
    "plt.xlabel(\"Customer Age\")\n",
    "plt.ylabel(\"Frequency\")\n",
    "plt.title(\"Histogram\");"
   ]
  },
  {
   "cell_type": "code",
   "execution_count": 53,
   "id": "aa5acc1a",
   "metadata": {
    "scrolled": false
   },
   "outputs": [
    {
     "data": {
      "text/plain": [
       "<Axes: xlabel='Ticket Type', ylabel='Customer Satisfaction Rating'>"
      ]
     },
     "execution_count": 53,
     "metadata": {},
     "output_type": "execute_result"
    },
    {
     "data": {
      "image/png": "[encoded data removed]",
      "text/plain": [
       "<Figure size 640x480 with 1 Axes>"
      ]
     },
     "metadata": {},
     "output_type": "display_data"
    }
   ],
   "source": [
    "# Histogram using Seaborn\n",
    "\n",
    "sns.boxplot(y=df[\"Customer Satisfaction Rating\"], x=df[\"Ticket Type\"])"
   ]
  },
  {
   "cell_type": "markdown",
   "id": "6b95bd8f",
   "metadata": {},
   "source": [
    "## Text Mining"
   ]
  },
  {
   "cell_type": "code",
   "execution_count": 33,
   "id": "217fa7ee",
   "metadata": {},
   "outputs": [],
   "source": [
    "#Import libraries\n",
    "import re\n",
    "import nltk # !pip install nltk\n",
    "\n",
    "from nltk.tokenize import word_tokenize\n",
    "from nltk.corpus import stopwords\n",
    "from nltk.stem import WordNetLemmatizer\n",
    "from nltk.stem import PorterStemmer\n",
    "from nltk.stem.snowball import SnowballStemmer\n",
    "from nltk.sentiment.vader import SentimentIntensityAnalyzer  #nltk.download('all')"
   ]
  },
  {
   "attachments": {
    "image.png": {
     "image/png": "[encoded data removed]"
    }
   },
   "cell_type": "markdown",
   "id": "66e76bf3",
   "metadata": {},
   "source": [
    "Preprocessing Text:\n",
    "\n",
    "![image.png](attachment:image.png)\n",
    "\n",
    "Source: https://www.oreilly.com/api/v2/epubs/9781492074076/files/assets/btap_0401.png"
   ]
  },
  {
   "cell_type": "markdown",
   "id": "f04d4d14",
   "metadata": {},
   "source": [
    "#### Noise removal and Character normalization"
   ]
  },
  {
   "cell_type": "code",
   "execution_count": 48,
   "id": "e7de4b79",
   "metadata": {},
   "outputs": [
    {
     "data": {
      "text/plain": [
       "0       im having an issue with the productpurchased p...\n",
       "1       im having an issue with the productpurchased p...\n",
       "2       im facing a problem with my productpurchased t...\n",
       "3       im having an issue with the productpurchased p...\n",
       "4       im having an issue with the productpurchased p...\n",
       "                              ...                        \n",
       "8464    my productpurchased is making strange noises a...\n",
       "8465    im having an issue with the productpurchased p...\n",
       "8466    im having an issue with the productpurchased p...\n",
       "8467    im having an issue with the productpurchased p...\n",
       "8468    there seems to be a hardware problem with my p...\n",
       "Name: cleaned_column, Length: 8469, dtype: object"
      ]
     },
     "execution_count": 48,
     "metadata": {},
     "output_type": "execute_result"
    }
   ],
   "source": [
    "# Removing non-desirable characters (0-9, @, #, emojis, etc.)\n",
    "\n",
    "# Remove non-desirable characters using regex\n",
    "\n",
    "def clean_regex(text):\n",
    "    if not text:\n",
    "        print('The text to be tokenized is a None type. Defaulting to blank string.')\n",
    "        text = ''\n",
    "    return re.sub(r'[^a-zA-Z\\s]', '', text)\n",
    "\n",
    "df['cleaned_column'] = df[\"Ticket Description\"].apply(clean_regex)\n",
    "\n",
    "\n",
    "# Normalizing capital letters\n",
    "df['cleaned_column'] = df['cleaned_column'].str.lower()\n",
    "df['cleaned_column']"
   ]
  },
  {
   "cell_type": "markdown",
   "id": "026dba6a",
   "metadata": {},
   "source": [
    "#### Tokenization"
   ]
  },
  {
   "cell_type": "code",
   "execution_count": 49,
   "id": "05e0366c",
   "metadata": {},
   "outputs": [
    {
     "data": {
      "text/plain": [
       "0       [im, having, an, issue, with, the, productpurc...\n",
       "1       [im, having, an, issue, with, the, productpurc...\n",
       "2       [im, facing, a, problem, with, my, productpurc...\n",
       "3       [im, having, an, issue, with, the, productpurc...\n",
       "4       [im, having, an, issue, with, the, productpurc...\n",
       "                              ...                        \n",
       "8464    [my, productpurchased, is, making, strange, no...\n",
       "8465    [im, having, an, issue, with, the, productpurc...\n",
       "8466    [im, having, an, issue, with, the, productpurc...\n",
       "8467    [im, having, an, issue, with, the, productpurc...\n",
       "8468    [there, seems, to, be, a, hardware, problem, w...\n",
       "Name: tokenized_column, Length: 8469, dtype: object"
      ]
     },
     "execution_count": 49,
     "metadata": {},
     "output_type": "execute_result"
    }
   ],
   "source": [
    "# Process of breaking text paragraphs into words\n",
    "\n",
    "# Tokenize the text\n",
    "def custom_tokenize(text):\n",
    "    if not text:\n",
    "        print('The text to be tokenized is a None type. Defaulting to blank string.')\n",
    "        text = ''\n",
    "    return word_tokenize(text)\n",
    "df['tokenized_column'] = df['cleaned_column'].apply(custom_tokenize)\n",
    "df['tokenized_column']"
   ]
  },
  {
   "cell_type": "markdown",
   "id": "5426e11e",
   "metadata": {},
   "source": [
    "#### Stop words"
   ]
  },
  {
   "cell_type": "code",
   "execution_count": 52,
   "id": "dc509d8e",
   "metadata": {},
   "outputs": [
    {
     "data": {
      "text/plain": [
       "0       [im, issue, productpurchased, please, assist, ...\n",
       "1       [im, issue, productpurchased, please, assist, ...\n",
       "2       [im, facing, problem, productpurchased, produc...\n",
       "3       [im, issue, productpurchased, please, assist, ...\n",
       "4       [im, issue, productpurchased, please, assist, ...\n",
       "                              ...                        \n",
       "8464    [productpurchased, making, strange, noises, fu...\n",
       "8465    [im, issue, productpurchased, please, assist, ...\n",
       "8466    [im, issue, productpurchased, please, assist, ...\n",
       "8467    [im, issue, productpurchased, please, assist, ...\n",
       "8468    [seems, hardware, problem, productpurchased, s...\n",
       "Name: filtered_tokens, Length: 8469, dtype: object"
      ]
     },
     "execution_count": 52,
     "metadata": {},
     "output_type": "execute_result"
    }
   ],
   "source": [
    "# Removing english stop words or any other non-desirable word like \"productpurchased\"\n",
    "\n",
    "# Function to filter stopwords\n",
    "def remove_stopwords(tokens):\n",
    "    stop_words = set(stopwords.words('english'))\n",
    "    filtered_tokens = [token for token in tokens if token not in stop_words]\n",
    "    return filtered_tokens\n",
    "\n",
    "# Apply remove_stopwords function to tokenized_column\n",
    "df['filtered_tokens'] = df['tokenized_column'].apply(remove_stopwords)\n",
    "df['filtered_tokens'] "
   ]
  },
  {
   "cell_type": "code",
   "execution_count": 55,
   "id": "b123a767",
   "metadata": {},
   "outputs": [
    {
     "name": "stdout",
     "output_type": "stream",
     "text": [
      "['i', 'me', 'my', 'myself', 'we', 'our', 'ours', 'ourselves', 'you', \"you're\", \"you've\", \"you'll\", \"you'd\", 'your', 'yours', 'yourself', 'yourselves', 'he', 'him', 'his', 'himself', 'she', \"she's\", 'her', 'hers', 'herself', 'it', \"it's\", 'its', 'itself', 'they', 'them', 'their', 'theirs', 'themselves', 'what', 'which', 'who', 'whom', 'this', 'that', \"that'll\", 'these', 'those', 'am', 'is', 'are', 'was', 'were', 'be', 'been', 'being', 'have', 'has', 'had', 'having', 'do', 'does', 'did', 'doing', 'a', 'an', 'the', 'and', 'but', 'if', 'or', 'because', 'as', 'until', 'while', 'of', 'at', 'by', 'for', 'with', 'about', 'against', 'between', 'into', 'through', 'during', 'before', 'after', 'above', 'below', 'to', 'from', 'up', 'down', 'in', 'out', 'on', 'off', 'over', 'under', 'again', 'further', 'then', 'once', 'here', 'there', 'when', 'where', 'why', 'how', 'all', 'any', 'both', 'each', 'few', 'more', 'most', 'other', 'some', 'such', 'no', 'nor', 'not', 'only', 'own', 'same', 'so', 'than', 'too', 'very', 's', 't', 'can', 'will', 'just', 'don', \"don't\", 'should', \"should've\", 'now', 'd', 'll', 'm', 'o', 're', 've', 'y', 'ain', 'aren', \"aren't\", 'couldn', \"couldn't\", 'didn', \"didn't\", 'doesn', \"doesn't\", 'hadn', \"hadn't\", 'hasn', \"hasn't\", 'haven', \"haven't\", 'isn', \"isn't\", 'ma', 'mightn', \"mightn't\", 'mustn', \"mustn't\", 'needn', \"needn't\", 'shan', \"shan't\", 'shouldn', \"shouldn't\", 'wasn', \"wasn't\", 'weren', \"weren't\", 'won', \"won't\", 'wouldn', \"wouldn't\"]\n"
     ]
    }
   ],
   "source": [
    "print(stopwords.words('english'))"
   ]
  },
  {
   "cell_type": "markdown",
   "id": "e33f2d8c",
   "metadata": {},
   "source": [
    "#### Frequency Distribution (Bag of words)"
   ]
  },
  {
   "cell_type": "code",
   "execution_count": 58,
   "id": "b4e91e12",
   "metadata": {},
   "outputs": [
    {
     "name": "stdout",
     "output_type": "stream",
     "text": [
      "[('productpurchased', 14048), ('issue', 11530), ('im', 10287), ('please', 8808), ('assist', 6250), ('ive', 6001), ('problem', 2285), ('product', 2270), ('data', 1654), ('software', 1552), ('account', 1461), ('steps', 1390), ('noticed', 1208), ('persists', 1178), ('help', 1176), ('resolve', 1165), ('update', 1155), ('would', 1122), ('device', 1106), ('unable', 1088)]\n"
     ]
    }
   ],
   "source": [
    "# Importing library\n",
    "from nltk.probability import FreqDist\n",
    "\n",
    "# Combine all tokens from different rows into a single list\n",
    "all_tokens = [token for sublist in df['filtered_tokens'] for token in sublist]\n",
    "\n",
    "# Create FreqDist for all_tokens\n",
    "fdist = FreqDist(all_tokens)\n",
    "\n",
    "# Get the 20 most common words\n",
    "common_words = fdist.most_common(20)\n",
    "print(common_words)"
   ]
  },
  {
   "cell_type": "code",
   "execution_count": 59,
   "id": "f1c714d3",
   "metadata": {},
   "outputs": [
    {
     "data": {
      "image/png": "[encoded data removed]",
      "text/plain": [
       "<Figure size 640x480 with 1 Axes>"
      ]
     },
     "metadata": {},
     "output_type": "display_data"
    },
    {
     "data": {
      "text/plain": [
       "<Axes: xlabel='Samples', ylabel='Counts'>"
      ]
     },
     "execution_count": 59,
     "metadata": {},
     "output_type": "execute_result"
    }
   ],
   "source": [
    "# Chart\n",
    "import matplotlib.pyplot as plt\n",
    "plt.figure()\n",
    "fdist.plot(20,cumulative=False)"
   ]
  },
  {
   "cell_type": "markdown",
   "id": "19a0fe3e",
   "metadata": {},
   "source": [
    "#### Word Cloud"
   ]
  },
  {
   "cell_type": "code",
   "execution_count": 76,
   "id": "d52c402f",
   "metadata": {
    "scrolled": true
   },
   "outputs": [
    {
     "ename": "ModuleNotFoundError",
     "evalue": "No module named 'wordcloud'",
     "output_type": "error",
     "traceback": [
      "\u001b[1;31m---------------------------------------------------------------------------\u001b[0m",
      "\u001b[1;31mModuleNotFoundError\u001b[0m                       Traceback (most recent call last)",
      "Cell \u001b[1;32mIn[76], line 2\u001b[0m\n\u001b[0;32m      1\u001b[0m \u001b[38;5;66;03m# Wordcloud\u001b[39;00m\n\u001b[1;32m----> 2\u001b[0m \u001b[38;5;28;01mfrom\u001b[39;00m \u001b[38;5;21;01mwordcloud\u001b[39;00m \u001b[38;5;28;01mimport\u001b[39;00m WordCloud \u001b[38;5;66;03m#python -m pip install wordcloud\u001b[39;00m\n\u001b[0;32m      3\u001b[0m wc \u001b[38;5;241m=\u001b[39m WordCloud()\n\u001b[0;32m      4\u001b[0m img \u001b[38;5;241m=\u001b[39m wc\u001b[38;5;241m.\u001b[39mgenerate_from_text(\u001b[38;5;124m'\u001b[39m\u001b[38;5;124m \u001b[39m\u001b[38;5;124m'\u001b[39m\u001b[38;5;241m.\u001b[39mjoin(df[\u001b[38;5;124m'\u001b[39m\u001b[38;5;124mfiltered_tokens\u001b[39m\u001b[38;5;124m'\u001b[39m]))\n",
      "\u001b[1;31mModuleNotFoundError\u001b[0m: No module named 'wordcloud'"
     ]
    }
   ],
   "source": [
    "# Wordcloud\n",
    "from wordcloud import WordCloud #python -m pip install wordcloud\n",
    "wc = WordCloud()\n",
    "img = wc.generate_from_text(' '.join(df['filtered_tokens']))\n",
    "img.to_file('worcloud.jpeg')"
   ]
  },
  {
   "cell_type": "markdown",
   "id": "f297bafd",
   "metadata": {},
   "source": [
    "#### Stemming"
   ]
  },
  {
   "cell_type": "code",
   "execution_count": 70,
   "id": "f54d2890",
   "metadata": {},
   "outputs": [],
   "source": [
    "# Reducing words to their word root word"
   ]
  },
  {
   "cell_type": "markdown",
   "id": "b5a4bc92",
   "metadata": {},
   "source": [
    "#### (or) Lemmatization"
   ]
  },
  {
   "cell_type": "code",
   "execution_count": 13,
   "id": "50e3f74e",
   "metadata": {},
   "outputs": [],
   "source": [
    "# Lemmatization reduces words to their base word, which is linguistically correct lemmas. \n",
    "# It transforms the root word with the use of vocabulary and morphological analysis.\n",
    "\n"
   ]
  },
  {
   "cell_type": "markdown",
   "id": "2a5ab07b",
   "metadata": {},
   "source": [
    "#### New Frequency Distribution (Bag of words)"
   ]
  },
  {
   "cell_type": "code",
   "execution_count": null,
   "id": "801e7f62",
   "metadata": {},
   "outputs": [],
   "source": []
  },
  {
   "cell_type": "markdown",
   "id": "8da7d6f2",
   "metadata": {},
   "source": [
    "#### New Word Cloud"
   ]
  },
  {
   "cell_type": "code",
   "execution_count": null,
   "id": "c2591474",
   "metadata": {},
   "outputs": [],
   "source": []
  },
  {
   "cell_type": "markdown",
   "id": "08cf4824",
   "metadata": {},
   "source": [
    "## Sentimental Analysis"
   ]
  },
  {
   "cell_type": "code",
   "execution_count": null,
   "id": "50ff0a85",
   "metadata": {},
   "outputs": [],
   "source": []
  }
 ],
 "metadata": {
  "kernelspec": {
   "display_name": "Python 3 (ipykernel)",
   "language": "python",
   "name": "python3"
  },
  "language_info": {
   "codemirror_mode": {
    "name": "ipython",
    "version": 3
   },
   "file_extension": ".py",
   "mimetype": "text/x-python",
   "name": "python",
   "nbconvert_exporter": "python",
   "pygments_lexer": "ipython3",
   "version": "3.11.5"
  }
 },
 "nbformat": 4,
 "nbformat_minor": 5
}
